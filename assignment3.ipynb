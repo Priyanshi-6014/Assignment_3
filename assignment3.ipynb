{
 "cells": [
  {
   "cell_type": "code",
   "execution_count": 360,
   "id": "2744778b",
   "metadata": {},
   "outputs": [],
   "source": [
    "##Question 1:\n",
    "import numpy as np\n",
    "from sklearn.linear_model import LinearRegression\n",
    "model = LinearRegression()\n",
    "\n",
    "#model = LinearRegression(fit_intercept = False) #specify whether an model includes intercept or not. "
   ]
  },
  {
   "cell_type": "code",
   "execution_count": 331,
   "id": "a975c97d",
   "metadata": {},
   "outputs": [
    {
     "name": "stdout",
     "output_type": "stream",
     "text": [
      "[0.79416959]\n"
     ]
    }
   ],
   "source": [
    "import pandas as pd\n",
    "data = pd.read_csv('crime.csv')\n",
    "#(i)\n",
    "X1 = data[['PctUnemployed']]  #X includes the values of the feature used to predict the target variable.\n",
    "y1 = data['ViolentCrimesPerPop'] #y includes the target variable values\n",
    "trained_model = model.fit(X1, y1) #fit is used to train the model using data\n",
    "print(model.coef_)\n"
   ]
  },
  {
   "cell_type": "code",
   "execution_count": 333,
   "id": "2f8fe403",
   "metadata": {},
   "outputs": [
    {
     "name": "stdout",
     "output_type": "stream",
     "text": [
      "[-0.4617803]\n"
     ]
    }
   ],
   "source": [
    "#(ii)\n",
    "X2 = data[['PctBSorMore']]  #X includes the values of the feature used to predict the target variable.\n",
    "y2 = data['ViolentCrimesPerPop'] #y includes the target variable values\n",
    "trained_model = model.fit(X2, y1) #fit is used to train the model using data\n",
    "print(model.coef_)"
   ]
  },
  {
   "cell_type": "code",
   "execution_count": 291,
   "id": "fa8679e1",
   "metadata": {},
   "outputs": [],
   "source": [
    "#As both of our values are positive , PctUnemployed and PctBSorMore is directly proportional to each other. \n",
    "#That is both factors increases linearly with ViolentCrimesPerPop"
   ]
  },
  {
   "cell_type": "code",
   "execution_count": null,
   "id": "987a5b79",
   "metadata": {},
   "outputs": [],
   "source": []
  },
  {
   "cell_type": "code",
   "execution_count": 274,
   "id": "0747c233",
   "metadata": {},
   "outputs": [
    {
     "data": {
      "text/html": [
       "<div>\n",
       "<style scoped>\n",
       "    .dataframe tbody tr th:only-of-type {\n",
       "        vertical-align: middle;\n",
       "    }\n",
       "\n",
       "    .dataframe tbody tr th {\n",
       "        vertical-align: top;\n",
       "    }\n",
       "\n",
       "    .dataframe thead th {\n",
       "        text-align: right;\n",
       "    }\n",
       "</style>\n",
       "<table border=\"1\" class=\"dataframe\">\n",
       "  <thead>\n",
       "    <tr style=\"text-align: right;\">\n",
       "      <th></th>\n",
       "      <th>PctPopUnderPov</th>\n",
       "      <th>PctUnemployed</th>\n",
       "      <th>PolicPerPop</th>\n",
       "      <th>Pcthomeless</th>\n",
       "      <th>PctBSorMore</th>\n",
       "      <th>ViolentCrimesPerPop</th>\n",
       "    </tr>\n",
       "  </thead>\n",
       "  <tbody>\n",
       "    <tr>\n",
       "      <th>0</th>\n",
       "      <td>0.19</td>\n",
       "      <td>0.27</td>\n",
       "      <td>0.13</td>\n",
       "      <td>0.04</td>\n",
       "      <td>0.48</td>\n",
       "      <td>0.20</td>\n",
       "    </tr>\n",
       "    <tr>\n",
       "      <th>1</th>\n",
       "      <td>0.48</td>\n",
       "      <td>0.37</td>\n",
       "      <td>0.30</td>\n",
       "      <td>0.25</td>\n",
       "      <td>0.47</td>\n",
       "      <td>0.49</td>\n",
       "    </tr>\n",
       "    <tr>\n",
       "      <th>2</th>\n",
       "      <td>0.34</td>\n",
       "      <td>0.59</td>\n",
       "      <td>0.08</td>\n",
       "      <td>0.21</td>\n",
       "      <td>0.24</td>\n",
       "      <td>0.34</td>\n",
       "    </tr>\n",
       "    <tr>\n",
       "      <th>3</th>\n",
       "      <td>0.33</td>\n",
       "      <td>0.30</td>\n",
       "      <td>0.16</td>\n",
       "      <td>0.75</td>\n",
       "      <td>0.28</td>\n",
       "      <td>0.69</td>\n",
       "    </tr>\n",
       "    <tr>\n",
       "      <th>4</th>\n",
       "      <td>0.36</td>\n",
       "      <td>0.33</td>\n",
       "      <td>0.11</td>\n",
       "      <td>0.06</td>\n",
       "      <td>0.27</td>\n",
       "      <td>0.63</td>\n",
       "    </tr>\n",
       "  </tbody>\n",
       "</table>\n",
       "</div>"
      ],
      "text/plain": [
       "   PctPopUnderPov  PctUnemployed  PolicPerPop  Pcthomeless  PctBSorMore  \\\n",
       "0            0.19           0.27         0.13         0.04         0.48   \n",
       "1            0.48           0.37         0.30         0.25         0.47   \n",
       "2            0.34           0.59         0.08         0.21         0.24   \n",
       "3            0.33           0.30         0.16         0.75         0.28   \n",
       "4            0.36           0.33         0.11         0.06         0.27   \n",
       "\n",
       "   ViolentCrimesPerPop  \n",
       "0                 0.20  \n",
       "1                 0.49  \n",
       "2                 0.34  \n",
       "3                 0.69  \n",
       "4                 0.63  "
      ]
     },
     "execution_count": 274,
     "metadata": {},
     "output_type": "execute_result"
    }
   ],
   "source": [
    "data.head()"
   ]
  },
  {
   "cell_type": "code",
   "execution_count": null,
   "id": "68f06e86",
   "metadata": {},
   "outputs": [],
   "source": []
  },
  {
   "cell_type": "code",
   "execution_count": null,
   "id": "c9e69997",
   "metadata": {},
   "outputs": [],
   "source": []
  },
  {
   "cell_type": "code",
   "execution_count": 276,
   "id": "816fb9f6",
   "metadata": {},
   "outputs": [
    {
     "name": "stdout",
     "output_type": "stream",
     "text": [
      "[[ 0.56266469  0.27158674  0.2114332   0.21070004 -0.00504752]]\n"
     ]
    }
   ],
   "source": [
    "#Question 2\n",
    "data = pd.read_csv('crime.csv')\n",
    "X = data.iloc[:,0:5]\n",
    "y = data.loc[:,['ViolentCrimesPerPop']]\n",
    "trained_model = model.fit(X, y)\n",
    "print(model.coef_)"
   ]
  },
  {
   "cell_type": "code",
   "execution_count": 277,
   "id": "3fb42628",
   "metadata": {},
   "outputs": [],
   "source": [
    "#most influential factor in violent crimes is PctBSorMore, as it is linearly proportional to ViolentCrimesPerPop, \n",
    "#so, ViolentCrimesPerPop decreases with increasing PctBSorMore. "
   ]
  },
  {
   "cell_type": "code",
   "execution_count": null,
   "id": "646a1ac2",
   "metadata": {},
   "outputs": [],
   "source": []
  },
  {
   "cell_type": "code",
   "execution_count": null,
   "id": "fec8a591",
   "metadata": {},
   "outputs": [],
   "source": []
  },
  {
   "cell_type": "code",
   "execution_count": 347,
   "id": "fd3f5029",
   "metadata": {},
   "outputs": [],
   "source": []
  },
  {
   "cell_type": "code",
   "execution_count": 351,
   "id": "b2f0a5e4",
   "metadata": {},
   "outputs": [
    {
     "name": "stderr",
     "output_type": "stream",
     "text": [
      "/Users/priyanshidobariya/opt/anaconda3/lib/python3.9/site-packages/sklearn/utils/validation.py:993: DataConversionWarning: A column-vector y was passed when a 1d array was expected. Please change the shape of y to (n_samples, ), for example using ravel().\n",
      "  y = column_or_1d(y, warn=True)\n",
      "/Users/priyanshidobariya/opt/anaconda3/lib/python3.9/site-packages/sklearn/linear_model/_logistic.py:814: ConvergenceWarning: lbfgs failed to converge (status=1):\n",
      "STOP: TOTAL NO. of ITERATIONS REACHED LIMIT.\n",
      "\n",
      "Increase the number of iterations (max_iter) or scale the data as shown in:\n",
      "    https://scikit-learn.org/stable/modules/preprocessing.html\n",
      "Please also refer to the documentation for alternative solver options:\n",
      "    https://scikit-learn.org/stable/modules/linear_model.html#logistic-regression\n",
      "  n_iter_i = _check_optimize_result(\n"
     ]
    },
    {
     "data": {
      "text/html": [
       "<div>\n",
       "<style scoped>\n",
       "    .dataframe tbody tr th:only-of-type {\n",
       "        vertical-align: middle;\n",
       "    }\n",
       "\n",
       "    .dataframe tbody tr th {\n",
       "        vertical-align: top;\n",
       "    }\n",
       "\n",
       "    .dataframe thead th {\n",
       "        text-align: right;\n",
       "    }\n",
       "</style>\n",
       "<table border=\"1\" class=\"dataframe\">\n",
       "  <thead>\n",
       "    <tr style=\"text-align: right;\">\n",
       "      <th></th>\n",
       "      <th>age</th>\n",
       "      <th>bp</th>\n",
       "      <th>sod</th>\n",
       "      <th>pot</th>\n",
       "      <th>hemo</th>\n",
       "      <th>pcv</th>\n",
       "      <th>wc</th>\n",
       "      <th>rc</th>\n",
       "      <th>ckd</th>\n",
       "      <th>Predicted Values</th>\n",
       "    </tr>\n",
       "  </thead>\n",
       "  <tbody>\n",
       "    <tr>\n",
       "      <th>0</th>\n",
       "      <td>48.0</td>\n",
       "      <td>70.0</td>\n",
       "      <td>111.0</td>\n",
       "      <td>2.5</td>\n",
       "      <td>11.2</td>\n",
       "      <td>32</td>\n",
       "      <td>6700</td>\n",
       "      <td>3.9</td>\n",
       "      <td>1</td>\n",
       "      <td>0.0</td>\n",
       "    </tr>\n",
       "    <tr>\n",
       "      <th>1</th>\n",
       "      <td>60.0</td>\n",
       "      <td>90.0</td>\n",
       "      <td>142.0</td>\n",
       "      <td>3.2</td>\n",
       "      <td>12.2</td>\n",
       "      <td>39</td>\n",
       "      <td>7800</td>\n",
       "      <td>4.4</td>\n",
       "      <td>1</td>\n",
       "      <td>0.0</td>\n",
       "    </tr>\n",
       "    <tr>\n",
       "      <th>2</th>\n",
       "      <td>53.0</td>\n",
       "      <td>90.0</td>\n",
       "      <td>114.0</td>\n",
       "      <td>3.7</td>\n",
       "      <td>9.5</td>\n",
       "      <td>29</td>\n",
       "      <td>12100</td>\n",
       "      <td>3.7</td>\n",
       "      <td>1</td>\n",
       "      <td>1.0</td>\n",
       "    </tr>\n",
       "    <tr>\n",
       "      <th>3</th>\n",
       "      <td>63.0</td>\n",
       "      <td>70.0</td>\n",
       "      <td>131.0</td>\n",
       "      <td>4.2</td>\n",
       "      <td>10.8</td>\n",
       "      <td>32</td>\n",
       "      <td>4500</td>\n",
       "      <td>3.8</td>\n",
       "      <td>1</td>\n",
       "      <td>0.0</td>\n",
       "    </tr>\n",
       "    <tr>\n",
       "      <th>4</th>\n",
       "      <td>68.0</td>\n",
       "      <td>70.0</td>\n",
       "      <td>138.0</td>\n",
       "      <td>5.8</td>\n",
       "      <td>9.7</td>\n",
       "      <td>28</td>\n",
       "      <td>12200</td>\n",
       "      <td>3.4</td>\n",
       "      <td>1</td>\n",
       "      <td>1.0</td>\n",
       "    </tr>\n",
       "  </tbody>\n",
       "</table>\n",
       "</div>"
      ],
      "text/plain": [
       "    age    bp    sod  pot  hemo  pcv     wc   rc  ckd  Predicted Values\n",
       "0  48.0  70.0  111.0  2.5  11.2   32   6700  3.9    1               0.0\n",
       "1  60.0  90.0  142.0  3.2  12.2   39   7800  4.4    1               0.0\n",
       "2  53.0  90.0  114.0  3.7   9.5   29  12100  3.7    1               1.0\n",
       "3  63.0  70.0  131.0  4.2  10.8   32   4500  3.8    1               0.0\n",
       "4  68.0  70.0  138.0  5.8   9.7   28  12200  3.4    1               1.0"
      ]
     },
     "execution_count": 351,
     "metadata": {},
     "output_type": "execute_result"
    }
   ],
   "source": [
    "#question3 \n",
    "data = pd.read_csv('kidney_disease.csv')\n",
    "reg = LogisticRegression()\n",
    "model = LinearRegression(fit_intercept = False)\n",
    "data=pd.read_csv('kidney_disease.csv')\n",
    "\n",
    "X= pd.DataFrame(data.iloc[:,0:8])\n",
    "y= pd.DataFrame(data['ckd'])\n",
    "X_train,X_test,y_train,y_test=train_test_split(X,y,test_size=0.2)\n",
    "reg.fit(X_train,y_train)\n",
    "\n",
    "y_predict=reg.predict(X_test)\n",
    "y_predict=pd.DataFrame(y_predict,columns=['Predicted'])\n",
    "\n",
    "df = data.copy()\n",
    "df['Predicted Values'] = y_predict\n",
    "df.head()\n"
   ]
  },
  {
   "cell_type": "code",
   "execution_count": null,
   "id": "51a5a87d",
   "metadata": {},
   "outputs": [],
   "source": []
  },
  {
   "cell_type": "code",
   "execution_count": null,
   "id": "ebd2dc36",
   "metadata": {},
   "outputs": [],
   "source": [
    "#question 4:\n",
    "from sklearn.model_selection import train_test_split\n",
    "import sklearn.linear_model\n",
    "import sklearn.model_selection\n",
    "from sklearn.metrics import accuracy_score, f1_score\n",
    "\n",
    "data=pd.read_csv(\"kidney_disease.csv\")\n",
    "logistic_model = sklearn.linear_model.LinearRegression()\n",
    "\n",
    "blood_factors = pd.DataFrame(data.iloc[0,:])\n",
    "classification = pd.Categorical(data[['ckd']])\n",
    "\n",
    "X_train,X_test,y_train, y_test = train_test_split(blood_factors, classification,test_size=0.3)#LOADING MODEL\n",
    "\n",
    "trained_model = logistic_model.fit(X_train, y_train)\n",
    "\n",
    "y_predicted=logistic_model.predict(X_test)\n",
    "\n",
    "print ('Accuracy:', accuracy_score (y_test, y_predicted))\n",
    "print ('F1 Score:' , f1_score(y_test, y_predicted))\n",
    "\n"
   ]
  },
  {
   "cell_type": "code",
   "execution_count": null,
   "id": "478f90ab",
   "metadata": {},
   "outputs": [],
   "source": []
  },
  {
   "cell_type": "code",
   "execution_count": 382,
   "id": "d667226c",
   "metadata": {},
   "outputs": [
    {
     "data": {
      "text/plain": [
       "0.2"
      ]
     },
     "execution_count": 382,
     "metadata": {},
     "output_type": "execute_result"
    }
   ],
   "source": [
    "#question 5 \n",
    "def get_frequency (input_string):\n",
    "    list_of_words = input_string.split(' ')\n",
    "    dict_of_frequencies = {}\n",
    "    for word in list_of_words:\n",
    "        if word in dict_of_frequencies.keys ():\n",
    "            dict_of_frequencies [word] = dict_of_frequencies [word] + 1\n",
    "    else:\n",
    "        dict_of_frequencies [word] = 1\n",
    "    return(max(dict_of_frequencies.values ())/len(list_of_words))\n",
    "\n",
    "get_frequency(\"hi hi hi am priyanshi\")"
   ]
  },
  {
   "cell_type": "code",
   "execution_count": null,
   "id": "90ff8df0",
   "metadata": {},
   "outputs": [],
   "source": []
  },
  {
   "cell_type": "code",
   "execution_count": null,
   "id": "05aee8dc",
   "metadata": {},
   "outputs": [],
   "source": []
  },
  {
   "cell_type": "code",
   "execution_count": 384,
   "id": "9efd38b3",
   "metadata": {},
   "outputs": [
    {
     "name": "stdout",
     "output_type": "stream",
     "text": [
      "Accuracy: 0.8266666666666667\n"
     ]
    }
   ],
   "source": [
    "#question 6 \n",
    "import pandas as pd\n",
    "import numpy as np\n",
    "from sklearn.model_selection import train_test_split\n",
    "from sklearn.linear_model import LogisticRegression\n",
    "from sklearn.metrics import accuracy_score\n",
    "from sklearn.preprocessing import LabelEncoder\n",
    "\n",
    "# Loading Email Data\n",
    "data = pd.read_csv('email.csv')\n",
    "\n",
    "# adding empty columns\n",
    "data['hyperlink'] = None\n",
    "data['free'] = None\n",
    "data['click'] = None\n",
    "data['business'] = None\n",
    "data['frequency'] = None\n",
    "\n",
    "email_text = data['email']\n",
    "words_to_check = ['hyperlink', 'free', 'click', 'business']\n",
    "\n",
    "# getting occurance of words and frequency of most common word\n",
    "for email in email_text:\n",
    "    for word in words_to_check:\n",
    "        if word in str(email):\n",
    "            data[word] = 1\n",
    "        data['frequency'] = get_frequency(str(email))\n",
    "\n",
    "# x-value DataFrame\n",
    "word_occurance = pd.DataFrame([\n",
    "    data['hyperlink'],\n",
    "    data['free'],\n",
    "    data['click'],\n",
    "    data['business'],\n",
    "    data['frequency']\n",
    "])\n",
    "# y-value DataFrame\n",
    "labels = pd.DataFrame([\n",
    "    data['label']\n",
    "])\n",
    "\n",
    "# Splitting training data\n",
    "x_train, x_test, y_train, y_test = train_test_split(word_occurance.T,\n",
    "                                                    np.ravel(labels.T),\n",
    "                                                    test_size=0.30)\n",
    "# Loading and fitting model\n",
    "logistic_model = LogisticRegression()\n",
    "fit_model = logistic_model.fit(x_train,y_train)\n",
    "\n",
    "# Predicting\n",
    "y_predicted = fit_model.predict(x_test)\n",
    "\n",
    "# Outputting accuracy\n",
    "print('Accuracy:', accuracy_score(y_test, y_predicted))"
   ]
  },
  {
   "cell_type": "code",
   "execution_count": null,
   "id": "f2ea3875",
   "metadata": {},
   "outputs": [],
   "source": []
  }
 ],
 "metadata": {
  "kernelspec": {
   "display_name": "Python 3 (ipykernel)",
   "language": "python",
   "name": "python3"
  },
  "language_info": {
   "codemirror_mode": {
    "name": "ipython",
    "version": 3
   },
   "file_extension": ".py",
   "mimetype": "text/x-python",
   "name": "python",
   "nbconvert_exporter": "python",
   "pygments_lexer": "ipython3",
   "version": "3.9.13"
  }
 },
 "nbformat": 4,
 "nbformat_minor": 5
}
